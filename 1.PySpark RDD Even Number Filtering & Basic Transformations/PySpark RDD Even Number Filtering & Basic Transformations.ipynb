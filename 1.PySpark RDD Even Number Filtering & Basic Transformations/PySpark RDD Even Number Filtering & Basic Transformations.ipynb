{
 "cells": [
  {
   "cell_type": "code",
   "execution_count": 1,
   "id": "ab224de0-1e04-44f5-97e6-65a53138fbf2",
   "metadata": {},
   "outputs": [
    {
     "data": {
      "text/html": [
       "\n",
       "        <div>\n",
       "            <p><b>SparkContext</b></p>\n",
       "\n",
       "            <p><a href=\"http://saitharun.alphionsee.in:4040\">Spark UI</a></p>\n",
       "\n",
       "            <dl>\n",
       "              <dt>Version</dt>\n",
       "                <dd><code>v4.0.1</code></dd>\n",
       "              <dt>Master</dt>\n",
       "                <dd><code>local[*]</code></dd>\n",
       "              <dt>AppName</dt>\n",
       "                <dd><code>PySparkShell</code></dd>\n",
       "            </dl>\n",
       "        </div>\n",
       "        "
      ],
      "text/plain": [
       "<SparkContext master=local[*] appName=PySparkShell>"
      ]
     },
     "execution_count": 1,
     "metadata": {},
     "output_type": "execute_result"
    }
   ],
   "source": [
    "sc"
   ]
  },
  {
   "cell_type": "code",
   "execution_count": 2,
   "id": "53f00279-eed4-4573-82ca-ea9e691d675b",
   "metadata": {},
   "outputs": [],
   "source": [
    "import random"
   ]
  },
  {
   "cell_type": "code",
   "execution_count": 4,
   "id": "7801e2b9-3240-468a-ba3a-cd879362d605",
   "metadata": {},
   "outputs": [
    {
     "name": "stdout",
     "output_type": "stream",
     "text": [
      "Original List:\n",
      "[441, 223, 33, 53, 521, 161, 752, 401, 938, 885, 974, 120, 288, 668, 409, 645, 268, 439, 745, 708, 884, 801, 790, 340, 381, 226, 428, 844, 531, 30, 389, 778, 561, 471, 149, 542, 372, 123, 300, 433, 454, 285, 397, 208, 135, 670, 951, 805, 984, 221, 157, 646, 919, 247, 380, 522, 237, 202, 769, 893, 862, 445, 15, 355, 385, 299, 419, 119, 566, 40, 394, 151, 293, 811, 807, 321, 691, 57, 659, 872, 514, 873, 116, 512, 162, 526, 205, 366, 709, 248, 902, 210, 911, 703, 273, 11, 505, 952, 748, 609]\n"
     ]
    }
   ],
   "source": [
    "random_numbers = [random.randint(1, 1000) for _ in range(100)]\n",
    "print(\"Original List:\")\n",
    "print(random_numbers)"
   ]
  },
  {
   "cell_type": "code",
   "execution_count": 5,
   "id": "4d39e518-8494-467d-8a05-e2d447523bc7",
   "metadata": {},
   "outputs": [],
   "source": [
    "numbers_rdd = sc.parallelize(random_numbers)"
   ]
  },
  {
   "cell_type": "code",
   "execution_count": 6,
   "id": "f72533a6-52cf-4112-8f99-1b486532d161",
   "metadata": {},
   "outputs": [],
   "source": [
    "even_numbers_rdd = numbers_rdd.filter(lambda x: x % 2 == 0)"
   ]
  },
  {
   "cell_type": "code",
   "execution_count": 7,
   "id": "7db85bc0-8eae-4465-bd40-2192f24c923a",
   "metadata": {},
   "outputs": [
    {
     "name": "stdout",
     "output_type": "stream",
     "text": [
      "\n",
      "Even Numbers:\n",
      "[752, 938, 974, 120, 288, 668, 268, 708, 884, 790, 340, 226, 428, 844, 30, 778, 542, 372, 300, 454, 208, 670, 984, 646, 380, 522, 202, 862, 566, 40, 394, 872, 514, 116, 512, 162, 526, 366, 248, 902, 210, 952, 748]\n"
     ]
    }
   ],
   "source": [
    "even_numbers = even_numbers_rdd.collect()\n",
    "print(\"\\nEven Numbers:\")\n",
    "print(even_numbers)"
   ]
  },
  {
   "cell_type": "code",
   "execution_count": null,
   "id": "c8806b88-cea2-4ef2-bbcc-0b60b202a9b2",
   "metadata": {},
   "outputs": [],
   "source": []
  }
 ],
 "metadata": {
  "kernelspec": {
   "display_name": "Python 3.11",
   "language": "python",
   "name": "python311"
  },
  "language_info": {
   "codemirror_mode": {
    "name": "ipython",
    "version": 3
   },
   "file_extension": ".py",
   "mimetype": "text/x-python",
   "name": "python",
   "nbconvert_exporter": "python",
   "pygments_lexer": "ipython3",
   "version": "3.11.9"
  }
 },
 "nbformat": 4,
 "nbformat_minor": 5
}
